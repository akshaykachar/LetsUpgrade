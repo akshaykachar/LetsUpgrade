{
 "cells": [
  {
   "cell_type": "markdown",
   "metadata": {},
   "source": [
    "# Assignment 2"
   ]
  },
  {
   "cell_type": "markdown",
   "metadata": {},
   "source": [
    "## Questions 1:\n",
    "### Create an empty list. Accept 10 numbers from the user and append to it the list if it is an even number."
   ]
  },
  {
   "cell_type": "code",
   "execution_count": 2,
   "metadata": {},
   "outputs": [
    {
     "name": "stdout",
     "output_type": "stream",
     "text": [
      "5\n",
      "4\n",
      "6\n",
      "8\n",
      "7\n",
      "45\n",
      "6\n",
      "89\n",
      "45\n",
      "56\n",
      "[4, 6, 8, 6, 56]\n"
     ]
    }
   ],
   "source": [
    "li = []\n",
    "for i in range(10):\n",
    "    num = int(input(\"Enter 10 Numbers\"))\n",
    "    if num %2 ==0:\n",
    "        li.append(num)\n",
    "print(li)        "
   ]
  },
  {
   "cell_type": "markdown",
   "metadata": {},
   "source": [
    "## Question 2\n",
    "### Create a notebook on LIST COMPREHENSION. This exercise is to put you in a Self learning mode"
   ]
  },
  {
   "cell_type": "code",
   "execution_count": 3,
   "metadata": {},
   "outputs": [
    {
     "name": "stdout",
     "output_type": "stream",
     "text": [
      "['A', 'K', 'S', 'H', 'A', 'Y']\n"
     ]
    }
   ],
   "source": [
    "name = [name for name in 'AKSHAY' ]\n",
    "print(name)"
   ]
  },
  {
   "cell_type": "code",
   "execution_count": 5,
   "metadata": {},
   "outputs": [
    {
     "name": "stdout",
     "output_type": "stream",
     "text": [
      "[2, 4, 6, 8, 10, 12, 14, 16, 18, 20, 22, 24, 26, 28, 30, 32, 34, 36, 38, 40, 42, 44, 46, 48, 50, 52, 54, 56, 58, 60, 62, 64, 66, 68, 70, 72, 74, 76, 78, 80, 82, 84, 86, 88, 90, 92, 94, 96, 98, 100, 102, 104, 106, 108, 110, 112, 114, 116, 118, 120, 122, 124, 126, 128, 130, 132, 134, 136, 138, 140, 142, 144, 146, 148]\n"
     ]
    }
   ],
   "source": [
    "even=[i for i in range(1,150) if i%2==0]\n",
    "print(even)"
   ]
  },
  {
   "cell_type": "markdown",
   "metadata": {},
   "source": [
    "## Questions 3:\n",
    "### You have seen in the videos how powerful dictionary data structure is.\n",
    "### In this assignment, given a number n, you have to write a program that generates a dictionary d which contains (i, i*i), where i is from 1 to n (both included).\n",
    "### Then you have to just print this dictionary d.\n",
    "### Example: Input: 4 will give output as {1: 1, 2: 4, 3: 9, 4: 16}\n",
    "### Input Format: Take the number n in a single line.\n",
    "### Output Format: Print the dictionary d in a single line."
   ]
  },
  {
   "cell_type": "code",
   "execution_count": 7,
   "metadata": {},
   "outputs": [
    {
     "name": "stdout",
     "output_type": "stream",
     "text": [
      "5\n",
      "{1: 1, 2: 4, 3: 9, 4: 16, 5: 25}\n"
     ]
    }
   ],
   "source": [
    "num = int(input())\n",
    "dictionary = {i:i*i for i in range(1,num+1)}\n",
    "print(dictionary)"
   ]
  },
  {
   "cell_type": "markdown",
   "metadata": {},
   "source": [
    "## Questions 4:\n",
    "### There is a robot which wants to go the charging point to charge itself.\n",
    "### The robot moves in a 2-D plane from the original point (0,0). The robot can\n",
    "### move toward UP, DOWN, LEFT and RIGHT with given steps."
   ]
  },
  {
   "cell_type": "code",
   "execution_count": 14,
   "metadata": {},
   "outputs": [
    {
     "name": "stdout",
     "output_type": "stream",
     "text": [
      "Type in UP/DOWN/LEFT/RIGHT and Step Number: \n",
      "Distance: 0\n"
     ]
    }
   ],
   "source": [
    "import math\n",
    "\n",
    "x, y = 0, 0\n",
    "\n",
    "while True:\n",
    "    step = input(\"Type in UP/DOWN/LEFT/RIGHT and Step Number: \")\n",
    "\n",
    "    if step == \"\":\n",
    "        break\n",
    "\n",
    "    else:\n",
    "        step = step.split(\" \")\n",
    "\n",
    "        if step[0] == \"UP\":\n",
    "            y = y + int(step[1])\n",
    "        elif step[0] == \"DOWN\":\n",
    "            y = y - int(step[1])\n",
    "        elif step[0] == \"LEFT\":\n",
    "            x = x - int(step[1])\n",
    "        elif step[0] == \"RIGHT\":\n",
    "            x = x + int(step[1])\n",
    "\n",
    "c = round(math.sqrt(x**2 + y**2))\n",
    "\n",
    "print(\"Distance:\", c)"
   ]
  }
 ],
 "metadata": {
  "kernelspec": {
   "display_name": "Python 3",
   "language": "python",
   "name": "python3"
  },
  "language_info": {
   "codemirror_mode": {
    "name": "ipython",
    "version": 3
   },
   "file_extension": ".py",
   "mimetype": "text/x-python",
   "name": "python",
   "nbconvert_exporter": "python",
   "pygments_lexer": "ipython3",
   "version": "3.6.11"
  }
 },
 "nbformat": 4,
 "nbformat_minor": 2
}
