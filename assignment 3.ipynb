{
 "cells": [
  {
   "cell_type": "markdown",
   "metadata": {
    "id": "PpKlBdY-HyMO"
   },
   "source": [
    "# Assignment 3 "
   ]
  },
  {
   "cell_type": "markdown",
   "metadata": {
    "id": "ZgXV79ikIXwi"
   },
   "source": [
    "## Questions 1:\n",
    "### Create a numpy array starting from 2 till 50 with a stepsize of 3."
   ]
  },
  {
   "cell_type": "code",
   "execution_count": 30,
   "metadata": {
    "colab": {
     "base_uri": "https://localhost:8080/"
    },
    "id": "YvPIjrhYISlk",
    "outputId": "2fdff225-8383-4161-f8e9-f6291bfd6660"
   },
   "outputs": [
    {
     "name": "stdout",
     "output_type": "stream",
     "text": [
      "[ 2  5  8 11 14 17 20 23 26 29 32 35 38 41 44 47]\n"
     ]
    }
   ],
   "source": [
    "import numpy as np \n",
    "print(np.arange(2,50,3)) "
   ]
  },
  {
   "cell_type": "markdown",
   "metadata": {
    "id": "8GeRcPjHIhm8"
   },
   "source": [
    "## Questions 2:\n",
    "### Accept two lists of 5 elements each from the user.\n",
    "### Convert them to numpy arrays. Concatenate these arrays and print it. \n",
    "### Also sort these arrays and print it."
   ]
  },
  {
   "cell_type": "code",
   "execution_count": 31,
   "metadata": {
    "colab": {
     "base_uri": "https://localhost:8080/"
    },
    "id": "FtMz4X5tIcwr",
    "outputId": "233e10bf-d917-49c2-a934-75ab0c19d3f2"
   },
   "outputs": [
    {
     "name": "stdout",
     "output_type": "stream",
     "text": [
      "enter 1st list numbers ::4\n",
      "enter 1st list numbers ::5\n",
      "enter 1st list numbers ::6\n",
      "enter 1st list numbers ::7\n",
      "enter 1st list numbers ::8\n",
      "enter 2nd list numbers ::11\n",
      "enter 2nd list numbers ::5\n",
      "enter 2nd list numbers ::45\n",
      "enter 2nd list numbers ::78\n",
      "enter 2nd list numbers ::45\n",
      "[4, 5, 6, 7, 8]\n",
      "[11, 5, 45, 78, 45]\n",
      "concatenated array is : [ 4  5  6  7  8 11  5 45 78 45]\n",
      "sorted array is : [ 4  5  5  6  7  8 11 45 45 78]\n"
     ]
    }
   ],
   "source": [
    "list_1 = []\n",
    "list_2 = []\n",
    "for i in range(5):\n",
    "    num = int(input('enter 1st list numbers ::'))\n",
    "    list_1.append(num)\n",
    "for i in range(5):    \n",
    "    num2 = int(input('enter 2nd list numbers ::'))\n",
    "    list_2.append(num2)\n",
    "print(list_1)\n",
    "print(list_2)\n",
    "array_1 = np.array(list_1)\n",
    "array_2 = np.array(list_2)\n",
    "\n",
    "concatenated_array = np.concatenate((array_1, array_2), axis=0)\n",
    "print(\"concatenated array is :\", concatenated_array)\n",
    "concatenated_array.sort()\n",
    "print(\"sorted array is :\", concatenated_array)"
   ]
  },
  {
   "cell_type": "markdown",
   "metadata": {
    "id": "D6Fj7X0NQnq5"
   },
   "source": [
    "## Questions 3:\n",
    "### Write a code snippet to find the dimensions of a ndarray and its size.\n"
   ]
  },
  {
   "cell_type": "code",
   "execution_count": 32,
   "metadata": {
    "colab": {
     "base_uri": "https://localhost:8080/"
    },
    "id": "ZllQ0W4OJ1lS",
    "outputId": "3e3c6b9c-5f03-40e5-b348-d9c0b2c74670"
   },
   "outputs": [
    {
     "name": "stdout",
     "output_type": "stream",
     "text": [
      "Array as follows::\n",
      "[[  1   2   3   4]\n",
      " [  5   6   7   8]\n",
      " [ 45  85  99 199]]\n",
      "Number of Rows : 3\n",
      "Number of Columns : 4\n"
     ]
    }
   ],
   "source": [
    "arr2D = np.array([[1,2,3,4], [5, 6, 7, 8], [45,85,99,199]])\n",
    "print('Array as follows::')\n",
    "print(arr2D)\n",
    "number_of_rows = np.size(arr2D, 0)\n",
    "number_of_coloumns = np.size(arr2D, 1)\n",
    "print('Number of Rows :', number_of_rows)\n",
    "print('Number of Columns :', number_of_coloumns)\n"
   ]
  },
  {
   "cell_type": "markdown",
   "metadata": {
    "id": "DfOd_ftWaL4g"
   },
   "source": [
    "## Questions 4:\n",
    "### How to convert a 1D array into a 2D array? Demonstrate with the help of a code snippet\n",
    "### Hint: np.newaxis, np.expand_dims"
   ]
  },
  {
   "cell_type": "code",
   "execution_count": 33,
   "metadata": {
    "colab": {
     "base_uri": "https://localhost:8080/"
    },
    "id": "a7DpQmUiaLTj",
    "outputId": "46ec4753-86e4-480c-a85e-a2315300df78"
   },
   "outputs": [
    {
     "name": "stdout",
     "output_type": "stream",
     "text": [
      "1D array is as Follows:\n",
      "[ 45  89  16  75  63  75  45  15  13 450]\n",
      "2D Array is as foloows \n",
      "[[ 45  89  16  75  63]\n",
      " [ 75  45  15  13 450]]\n"
     ]
    }
   ],
   "source": [
    "oneDarr = np.array([45, 89, 16, 75, 63, 75, 45, 15, 13, 450])\n",
    "print('1D array is as Follows:')\n",
    "print(oneDarr)\n",
    "arr_2d = np.reshape(oneDarr, (2, 5))\n",
    "print(\"2D Array is as foloows \")\n",
    "print(arr_2d)"
   ]
  },
  {
   "cell_type": "markdown",
   "metadata": {
    "id": "Xn_hqlDXbTZ3"
   },
   "source": [
    "## Questions 5:\n",
    "### Consider two square numpy arrays. Stack them vertically and horizontally.\n",
    "### Hint: Use vstack(), hstack()"
   ]
  },
  {
   "cell_type": "code",
   "execution_count": 34,
   "metadata": {
    "colab": {
     "base_uri": "https://localhost:8080/"
    },
    "id": "LvDO8HqwZ2zb",
    "outputId": "b58a0848-29c3-4592-cb17-28151e6265dc"
   },
   "outputs": [
    {
     "name": "stdout",
     "output_type": "stream",
     "text": [
      "Vertical stacking:\n",
      " [[10 20 30 40]\n",
      " [33 43 53 63]\n",
      " [31 41 51 61]\n",
      " [52 62 72 82]\n",
      " [77 88 99 66]\n",
      " [59 68 76 86]]\n",
      "\n",
      "\n",
      "Horizontal stacking:\n",
      " [[10 20 30 40 52 62 72 82]\n",
      " [33 43 53 63 77 88 99 66]\n",
      " [31 41 51 61 59 68 76 86]]\n"
     ]
    }
   ],
   "source": [
    "a = np.array([[10, 20, 30, 40], \n",
    "              [33, 43, 53, 63],\n",
    "             [31, 41, 51, 61]]) \n",
    "  \n",
    "b = np.array([[52, 62, 72, 82], \n",
    "              [77, 88, 99, 66],\n",
    "             [59, 68, 76, 86]]) \n",
    "print(\"Vertical stacking:\\n\", np.vstack((a, b))) \n",
    "print('\\n')\n",
    "print(\"Horizontal stacking:\\n\", np.hstack((a, b)))"
   ]
  },
  {
   "cell_type": "markdown",
   "metadata": {
    "id": "nRZMcOpgcACf"
   },
   "source": [
    "## Questions 6:\n",
    "### How to get unique items and counts of unique items?"
   ]
  },
  {
   "cell_type": "code",
   "execution_count": 35,
   "metadata": {
    "colab": {
     "base_uri": "https://localhost:8080/"
    },
    "id": "bz7EBesqb5wX",
    "outputId": "1b1ea7eb-3f6c-44d7-be85-4591a836fa56"
   },
   "outputs": [
    {
     "name": "stdout",
     "output_type": "stream",
     "text": [
      "The unique are\n",
      "[11 22 33 44 55 66 77 88 99]\n",
      "No of unique items in the list are: 9\n"
     ]
    }
   ],
   "source": [
    "def unique(list_1): \n",
    "    a = np.array(list_1) \n",
    "    print(np.unique(a)) \n",
    "      \n",
    "list_1 = [11, 22, 33, 44, 55, 66, 77, 88, 99] \n",
    "print(\"The unique are\") \n",
    "unique(list_1) \n",
    "set_1 = set(list_1) \n",
    "print(\"No of unique items in the list are:\", len(set_1))"
   ]
  }
 ],
 "metadata": {
  "colab": {
   "name": "Prakash_Mandekar_Assignment_Day_3.ipynb",
   "provenance": []
  },
  "kernelspec": {
   "display_name": "Python 3",
   "language": "python",
   "name": "python3"
  },
  "language_info": {
   "codemirror_mode": {
    "name": "ipython",
    "version": 3
   },
   "file_extension": ".py",
   "mimetype": "text/x-python",
   "name": "python",
   "nbconvert_exporter": "python",
   "pygments_lexer": "ipython3",
   "version": "3.6.11"
  }
 },
 "nbformat": 4,
 "nbformat_minor": 1
}
